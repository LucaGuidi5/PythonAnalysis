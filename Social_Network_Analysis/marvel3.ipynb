{
 "cells": [
  {
   "cell_type": "code",
   "execution_count": null,
   "metadata": {},
   "outputs": [],
   "source": [
    "import pandas as pd\n",
    "import networkx as nx\n",
    "import matplotlib.pyplot as plt\n",
    "import matplotlib.colors as mcolors\n",
    "import random\n",
    "import seaborn as sns\n",
    "import numpy as np\n",
    "from utils import get_dataset"
   ]
  },
  {
   "cell_type": "code",
   "execution_count": null,
   "metadata": {},
   "outputs": [],
   "source": [
    "heroes = get_dataset(n_times=80)\n",
    "list(heroes.nodes)"
   ]
  },
  {
   "cell_type": "code",
   "execution_count": null,
   "metadata": {},
   "outputs": [],
   "source": [
    "# hawkeye missing\n",
    "team_cap = ['CAPTAIN AMERICA', 'BUCKY/BUCKY BARNES', 'FALCON/SAM WILSON', 'SCARLET WITCH/WANDA ', 'ANT-MAN/DR. HENRY J.']\n",
    "team_ironman = ['IRON MAN/TONY STARK ', 'IRON MAN IV/JAMES R.', 'BLACK WIDOW/NATASHA ', 'VISION ', 'BLACK PANTHER/T\\'CHAL', 'SPIDER-MAN/PETER PAR']\n",
    "# phoenix excluding\n",
    "xmen = ['PROFESSOR X/CHARLES ', 'CYCLOPS/SCOTT SUMMER', 'ANGEL/WARREN KENNETH', 'BEAST/HENRY &HANK& P', 'ICEMAN/ROBERT BOBBY ', 'WOLVERINE/LOGAN ']\n",
    "fantastic_four = ['INVISIBLE WOMAN/SUE ', 'HUMAN TORCH/JOHNNY S', 'THING/BENJAMIN J. GR', 'MR. FANTASTIC/REED R', 'RICHARDS, FRANKLIN B']\n",
    "avengers = team_cap + team_ironman\n",
    "\n",
    "team_cap_graph = heroes.subgraph(team_cap)\n",
    "team_ironman_graph = heroes.subgraph(team_ironman)\n",
    "avengers_graph = heroes.subgraph(avengers)\n",
    "xmen_graph = heroes.subgraph(xmen)\n",
    "fantastic_four_graph = heroes.subgraph(fantastic_four)\n",
    "\n",
    "teams_labels = [\"FANTASTIC 4\", \"XMEN\", \"TEAM CAP\", \"TEAM IRON MAN\", \"AVENGERS\"]\n",
    "teams_graphs = [fantastic_four_graph, xmen_graph, team_cap_graph, team_ironman_graph, avengers_graph]\n",
    "\n",
    "for label, graph in zip(teams_labels,teams_graphs):\n",
    "    fig = plt.figure(figsize=(8,8))\n",
    "    pos = nx.spring_layout(graph)\n",
    "    nx.draw(graph, node_size = 30, node_color = 'blue', edge_color = 'gray', font_size = 10, pos=pos)\n",
    "    nx.draw_networkx_labels(graph, {k:v + [0,0.1] for k,v in pos.items()}, font_size=10, font_family='sans-serif')\n",
    "    plt.title(label, fontsize=20)\n",
    "    plt.margins(0.2, 0.2)\n"
   ]
  },
  {
   "cell_type": "code",
   "execution_count": null,
   "metadata": {},
   "outputs": [],
   "source": [
    "labels = ['DEGREE', 'BETWEENNESS', 'CLOSENESS']\n",
    "fun = [nx.group_degree_centrality, nx.group_betweenness_centrality, nx.group_closeness_centrality]\n",
    "\n",
    "teams_centralities = [ [f(heroes,graph) for f in fun]  for graph in teams_graphs]\n",
    "\n",
    "for i, label in enumerate(labels):\n",
    "    print(\"GROUP\", label, \"CENTRALITY\")\n",
    "    for j, team in enumerate(teams_labels):\n",
    "        print(team, teams_centralities[j][i])\n",
    "\n",
    "# plot histogram for each centrality for each team\n",
    "fig, ax = plt.subplots(3, 1, figsize=(10, 15))\n",
    "fig.tight_layout(pad=5.0)\n",
    "for i, label in enumerate(labels):\n",
    "    ax[i].set_xticks([i for i in range(len(teams_labels))])\n",
    "    ax[i].set_xticklabels(teams_labels, fontsize=14)\n",
    "    ax[i].set_title(f\"GROUP {label} CENTRALITY\", fontsize=18)\n",
    "    for j, team in enumerate(teams_labels):\n",
    "        value = teams_centralities[j][i]\n",
    "        ax[i].bar(teams_labels[j], value, label=teams_labels[j])\n",
    "        # add value in the middle of the bar\n",
    "        ax[i].text(teams_labels[j], value/2, round(value, 3), ha='center', color='white', fontsize=14)\n",
    "plt.show()"
   ]
  }
 ],
 "metadata": {
  "kernelspec": {
   "display_name": ".venv",
   "language": "python",
   "name": "python3"
  },
  "language_info": {
   "codemirror_mode": {
    "name": "ipython",
    "version": 3
   },
   "file_extension": ".py",
   "mimetype": "text/x-python",
   "name": "python",
   "nbconvert_exporter": "python",
   "pygments_lexer": "ipython3",
   "version": "3.10.11"
  }
 },
 "nbformat": 4,
 "nbformat_minor": 2
}
