{
 "cells": [
  {
   "cell_type": "code",
   "execution_count": null,
   "metadata": {},
   "outputs": [],
   "source": [
    "import pandas as pd\n",
    "import networkx as nx\n",
    "import matplotlib.pyplot as plt\n",
    "import matplotlib.colors as mcolors\n",
    "import random\n",
    "import seaborn as sns\n",
    "import numpy as np\n",
    "from utils import get_dataset"
   ]
  },
  {
   "cell_type": "code",
   "execution_count": null,
   "metadata": {},
   "outputs": [],
   "source": [
    "heroes = get_dataset(n_times=75)"
   ]
  },
  {
   "cell_type": "code",
   "execution_count": null,
   "metadata": {},
   "outputs": [],
   "source": [
    "fig = plt.figure(figsize=(10, 10))\n",
    "nx.draw(heroes, with_labels = True, node_size = 30, node_color = 'blue', edge_color = 'gray', font_size = 10, pos=nx.spring_layout(heroes))"
   ]
  },
  {
   "cell_type": "code",
   "execution_count": null,
   "metadata": {},
   "outputs": [],
   "source": [
    "print(\"NODES: \", len(heroes.nodes))\n",
    "print(\"EDGES: \", len(heroes.edges))\n",
    "print(\"DENSITY: \", nx.density(heroes))\n",
    "print(\"RADIUS: \", nx.radius(heroes))\n",
    "print(\"DIAMETER: \", nx.diameter(heroes))\n",
    "print(\"PERIPHERY: \", nx.periphery(heroes))\n",
    "print(\"CLUSTERING: \", nx.average_clustering(heroes))\n",
    "print(\"IS CONNECTED: \", nx.is_connected(heroes))"
   ]
  }
 ],
 "metadata": {
  "kernelspec": {
   "display_name": ".venv",
   "language": "python",
   "name": "python3"
  },
  "language_info": {
   "codemirror_mode": {
    "name": "ipython",
    "version": 3
   },
   "file_extension": ".py",
   "mimetype": "text/x-python",
   "name": "python",
   "nbconvert_exporter": "python",
   "pygments_lexer": "ipython3",
   "version": "3.10.11"
  }
 },
 "nbformat": 4,
 "nbformat_minor": 2
}
