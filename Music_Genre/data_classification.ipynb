{
 "cells": [
  {
   "cell_type": "markdown",
   "metadata": {},
   "source": [
    "### Libraries"
   ]
  },
  {
   "cell_type": "code",
   "execution_count": 2,
   "metadata": {},
   "outputs": [],
   "source": [
    "import pandas as pd\n",
    "import matplotlib.pyplot as plt\n",
    "import seaborn as sns\n",
    "import numpy as np\n",
    "\n",
    "from sklearn import metrics\n",
    "from sklearn.model_selection import train_test_split\n",
    "\n",
    "from sklearn.linear_model import LogisticRegression\n",
    "import lazypredict\n",
    "from lazypredict.Supervised import LazyClassifier"
   ]
  },
  {
   "cell_type": "markdown",
   "metadata": {},
   "source": [
    "# PreProcessing"
   ]
  },
  {
   "cell_type": "markdown",
   "metadata": {},
   "source": [
    "### Load dataset"
   ]
  },
  {
   "cell_type": "code",
   "execution_count": 3,
   "metadata": {},
   "outputs": [],
   "source": [
    "# Read the data from the CSV file\n",
    "train_data = pd.read_csv('dataset/train.csv')\n",
    "\n",
    "#Mapping classi to genere\n",
    "genres = ['Acoustic/Folk', 'Alt Music', 'Blues', 'Bollywood', 'Country', 'HipHop', 'Indie', 'Instrumental', 'Metal', 'Pop', 'Rock']\n"
   ]
  },
  {
   "cell_type": "markdown",
   "metadata": {},
   "source": [
    "### Handling missing values"
   ]
  },
  {
   "cell_type": "code",
   "execution_count": 4,
   "metadata": {},
   "outputs": [],
   "source": [
    "#Because the missing values are few we can fill them with 0\n",
    "train_data.fillna(0,inplace=True)\n",
    "\n",
    "train_data = train_data[[\n",
    "        'Artist Name', 'Track Name', 'Popularity', 'danceability', 'energy',\n",
    "       #'key',\n",
    "        'loudness',\n",
    "        #'mode',\n",
    "        'speechiness', 'acousticness',\n",
    "       'instrumentalness', 'liveness', \n",
    "       'valence', # ??\n",
    "       'tempo',\n",
    "       'duration_in min/ms', 'time_signature', 'Class']].copy()"
   ]
  },
  {
   "cell_type": "code",
   "execution_count": 5,
   "metadata": {},
   "outputs": [
    {
     "name": "stdout",
     "output_type": "stream",
     "text": [
      "Index(['Artist_Name', 'Track_Name', 'Popularity', 'Danceability', 'Energy',\n",
      "       'Loudness', 'Speechiness', 'Acousticness', 'Instrumentalness',\n",
      "       'Liveness', 'Valence', 'Tempo_bpm', 'Duration_ms', 'Time_Signature',\n",
      "       'Class'],\n",
      "      dtype='object')\n"
     ]
    }
   ],
   "source": [
    "train_data.rename(columns={\n",
    "                           'Artist Name': 'Artist_Name',\n",
    "                            'Track Name': 'Track_Name',\n",
    "                            'danceability': 'Danceability',\n",
    "                            'energy': 'Energy',\n",
    "                            'loudness': 'Loudness',                           \n",
    "                            'speechiness': 'Speechiness',\n",
    "                            'acousticness': 'Acousticness',\n",
    "                            'instrumentalness': 'Instrumentalness',\n",
    "                            'liveness': 'Liveness',\n",
    "                            'valence': 'Valence',\n",
    "                            'tempo': 'Tempo_bpm',\n",
    "                            'duration_in min/ms': 'Duration_ms',\n",
    "                            'time_signature': 'Time_Signature',\n",
    "                           }, inplace=True)\n",
    "\n",
    "\n",
    "\n",
    "numeric_features = ['Popularity', 'Danceability', 'Energy', 'Loudness', 'Speechiness', 'Acousticness', 'Instrumentalness', 'Liveness', 'Valence', 'Tempo_bpm', 'Duration_ms', 'Time_Signature']\n",
    "print(train_data.columns)"
   ]
  },
  {
   "cell_type": "code",
   "execution_count": 6,
   "metadata": {},
   "outputs": [
    {
     "name": "stdout",
     "output_type": "stream",
     "text": [
      "10    4949\n",
      "6     2587\n",
      "9     2524\n",
      "8     1854\n",
      "5     1447\n",
      "1     1373\n",
      "2     1272\n",
      "0      625\n",
      "7      576\n",
      "3      402\n",
      "4      387\n",
      "Name: Class, dtype: int64\n"
     ]
    }
   ],
   "source": [
    "#print the support of each class\n",
    "print(train_data['Class'].value_counts())"
   ]
  },
  {
   "cell_type": "code",
   "execution_count": 7,
   "metadata": {},
   "outputs": [],
   "source": [
    "#Split the train data into train and test\n",
    "\n",
    "X = train_data[numeric_features]\n",
    "y = train_data['Class']\n",
    "X_train, X_test, y_train, y_test = train_test_split(X, y, test_size=0.2, random_state=42, stratify = y) \n"
   ]
  },
  {
   "cell_type": "markdown",
   "metadata": {},
   "source": [
    "### Classification with Logistic Regression"
   ]
  },
  {
   "cell_type": "code",
   "execution_count": 8,
   "metadata": {},
   "outputs": [
    {
     "data": {
      "text/plain": [
       "<Axes: >"
      ]
     },
     "execution_count": 8,
     "metadata": {},
     "output_type": "execute_result"
    },
    {
     "data": {
      "image/png": "[encoded data removed]",
      "text/plain": [
       "<Figure size 640x480 with 2 Axes>"
      ]
     },
     "metadata": {},
     "output_type": "display_data"
    }
   ],
   "source": [
    "#Train the model Logisitc Regression with train data\n",
    "logistic_model = LogisticRegression(class_weight='balanced')\n",
    "logistic_model.fit(X_train, y_train)\n",
    "\n",
    "y_pred = logistic_model.predict(X_test)\n",
    "\n",
    "cnf_matrix = metrics.confusion_matrix(y_test, y_pred)\n",
    "sns.heatmap(cnf_matrix, annot=True, fmt=\"d\", cmap=\"YlGnBu\", xticklabels=genres, yticklabels=genres)\n"
   ]
  },
  {
   "cell_type": "code",
   "execution_count": 9,
   "metadata": {},
   "outputs": [
    {
     "name": "stdout",
     "output_type": "stream",
     "text": [
      "               precision    recall  f1-score   support\n",
      "\n",
      "Acoustic/Folk       0.00      0.00      0.00       125\n",
      "    Alt Music       0.10      0.07      0.08       275\n",
      "        Blues       0.15      0.16      0.16       254\n",
      "    Bollywood       0.29      0.46      0.36        80\n",
      "      Country       0.34      0.13      0.19        77\n",
      "       HipHop       0.16      0.10      0.12       290\n",
      "        Indie       0.23      0.03      0.05       518\n",
      " Instrumental       0.31      0.96      0.47       115\n",
      "        Metal       0.17      0.52      0.26       371\n",
      "          Pop       0.15      0.26      0.19       505\n",
      "         Rock       0.32      0.14      0.19       990\n",
      "\n",
      "     accuracy                           0.20      3600\n",
      "    macro avg       0.20      0.26      0.19      3600\n",
      " weighted avg       0.22      0.20      0.17      3600\n",
      "\n"
     ]
    }
   ],
   "source": [
    "#make a report of the model \n",
    "print(metrics.classification_report(y_test, y_pred, target_names=genres))\n"
   ]
  },
  {
   "cell_type": "code",
   "execution_count": 10,
   "metadata": {},
   "outputs": [
    {
     "data": {
      "text/plain": [
       "[('AdaBoostClassifier', sklearn.ensemble._weight_boosting.AdaBoostClassifier),\n",
       " ('BaggingClassifier', sklearn.ensemble._bagging.BaggingClassifier),\n",
       " ('BernoulliNB', sklearn.naive_bayes.BernoulliNB),\n",
       " ('CalibratedClassifierCV', sklearn.calibration.CalibratedClassifierCV),\n",
       " ('CategoricalNB', sklearn.naive_bayes.CategoricalNB),\n",
       " ('DecisionTreeClassifier', sklearn.tree._classes.DecisionTreeClassifier),\n",
       " ('DummyClassifier', sklearn.dummy.DummyClassifier),\n",
       " ('ExtraTreeClassifier', sklearn.tree._classes.ExtraTreeClassifier),\n",
       " ('ExtraTreesClassifier', sklearn.ensemble._forest.ExtraTreesClassifier),\n",
       " ('GaussianNB', sklearn.naive_bayes.GaussianNB),\n",
       " ('KNeighborsClassifier',\n",
       "  sklearn.neighbors._classification.KNeighborsClassifier),\n",
       " ('LabelPropagation',\n",
       "  sklearn.semi_supervised._label_propagation.LabelPropagation),\n",
       " ('LabelSpreading', sklearn.semi_supervised._label_propagation.LabelSpreading),\n",
       " ('LinearDiscriminantAnalysis',\n",
       "  sklearn.discriminant_analysis.LinearDiscriminantAnalysis),\n",
       " ('LinearSVC', sklearn.svm._classes.LinearSVC),\n",
       " ('LogisticRegression', sklearn.linear_model._logistic.LogisticRegression),\n",
       " ('NearestCentroid', sklearn.neighbors._nearest_centroid.NearestCentroid),\n",
       " ('NuSVC', sklearn.svm._classes.NuSVC),\n",
       " ('PassiveAggressiveClassifier',\n",
       "  sklearn.linear_model._passive_aggressive.PassiveAggressiveClassifier),\n",
       " ('Perceptron', sklearn.linear_model._perceptron.Perceptron),\n",
       " ('QuadraticDiscriminantAnalysis',\n",
       "  sklearn.discriminant_analysis.QuadraticDiscriminantAnalysis),\n",
       " ('RandomForestClassifier', sklearn.ensemble._forest.RandomForestClassifier),\n",
       " ('RidgeClassifier', sklearn.linear_model._ridge.RidgeClassifier),\n",
       " ('RidgeClassifierCV', sklearn.linear_model._ridge.RidgeClassifierCV),\n",
       " ('SGDClassifier', sklearn.linear_model._stochastic_gradient.SGDClassifier),\n",
       " ('SVC', sklearn.svm._classes.SVC),\n",
       " ('StackingClassifier', sklearn.ensemble._stacking.StackingClassifier),\n",
       " ('XGBClassifier', xgboost.sklearn.XGBClassifier),\n",
       " ('LGBMClassifier', lightgbm.sklearn.LGBMClassifier)]"
      ]
     },
     "execution_count": 10,
     "metadata": {},
     "output_type": "execute_result"
    }
   ],
   "source": [
    "lazypredict.Supervised.CLASSIFIERS"
   ]
  },
  {
   "cell_type": "code",
   "execution_count": 11,
   "metadata": {},
   "outputs": [],
   "source": [
    "# select the models to test\n",
    "lazypredict.Supervised.CLASSIFIERS = lazypredict.Supervised.CLASSIFIERS[0:11] + lazypredict.Supervised.CLASSIFIERS[15:17] + lazypredict.Supervised.CLASSIFIERS[19:28]"
   ]
  },
  {
   "cell_type": "code",
   "execution_count": 12,
   "metadata": {},
   "outputs": [
    {
     "data": {
      "text/plain": [
       "[('AdaBoostClassifier', sklearn.ensemble._weight_boosting.AdaBoostClassifier),\n",
       " ('BaggingClassifier', sklearn.ensemble._bagging.BaggingClassifier),\n",
       " ('BernoulliNB', sklearn.naive_bayes.BernoulliNB),\n",
       " ('CalibratedClassifierCV', sklearn.calibration.CalibratedClassifierCV),\n",
       " ('CategoricalNB', sklearn.naive_bayes.CategoricalNB),\n",
       " ('DecisionTreeClassifier', sklearn.tree._classes.DecisionTreeClassifier),\n",
       " ('DummyClassifier', sklearn.dummy.DummyClassifier),\n",
       " ('ExtraTreeClassifier', sklearn.tree._classes.ExtraTreeClassifier),\n",
       " ('ExtraTreesClassifier', sklearn.ensemble._forest.ExtraTreesClassifier),\n",
       " ('GaussianNB', sklearn.naive_bayes.GaussianNB),\n",
       " ('KNeighborsClassifier',\n",
       "  sklearn.neighbors._classification.KNeighborsClassifier),\n",
       " ('LogisticRegression', sklearn.linear_model._logistic.LogisticRegression),\n",
       " ('NearestCentroid', sklearn.neighbors._nearest_centroid.NearestCentroid),\n",
       " ('Perceptron', sklearn.linear_model._perceptron.Perceptron),\n",
       " ('QuadraticDiscriminantAnalysis',\n",
       "  sklearn.discriminant_analysis.QuadraticDiscriminantAnalysis),\n",
       " ('RandomForestClassifier', sklearn.ensemble._forest.RandomForestClassifier),\n",
       " ('RidgeClassifier', sklearn.linear_model._ridge.RidgeClassifier),\n",
       " ('RidgeClassifierCV', sklearn.linear_model._ridge.RidgeClassifierCV),\n",
       " ('SGDClassifier', sklearn.linear_model._stochastic_gradient.SGDClassifier),\n",
       " ('SVC', sklearn.svm._classes.SVC),\n",
       " ('StackingClassifier', sklearn.ensemble._stacking.StackingClassifier),\n",
       " ('XGBClassifier', xgboost.sklearn.XGBClassifier)]"
      ]
     },
     "execution_count": 12,
     "metadata": {},
     "output_type": "execute_result"
    }
   ],
   "source": [
    "# check the list again\n",
    "lazypredict.Supervised.CLASSIFIERS"
   ]
  },
  {
   "cell_type": "code",
   "execution_count": 13,
   "metadata": {},
   "outputs": [
    {
     "name": "stderr",
     "output_type": "stream",
     "text": [
      "  5%|▍         | 1/22 [00:03<01:23,  3.95s/it]"
     ]
    },
    {
     "name": "stdout",
     "output_type": "stream",
     "text": [
      "{'Model': 'AdaBoostClassifier', 'Accuracy': 0.2733333333333333, 'Balanced Accuracy': 0.3830169474247626, 'ROC AUC': None, 'F1 Score': 0.19070994953016263, 'Time taken': 3.9532952308654785}\n"
     ]
    },
    {
     "name": "stderr",
     "output_type": "stream",
     "text": [
      "  9%|▉         | 2/22 [00:11<02:06,  6.31s/it]"
     ]
    },
    {
     "name": "stdout",
     "output_type": "stream",
     "text": [
      "{'Model': 'BaggingClassifier', 'Accuracy': 0.4647222222222222, 'Balanced Accuracy': 0.5383007342697912, 'ROC AUC': None, 'F1 Score': 0.4591440986364977, 'Time taken': 7.9582531452178955}\n",
      "{'Model': 'BernoulliNB', 'Accuracy': 0.3952777777777778, 'Balanced Accuracy': 0.39467604199043554, 'ROC AUC': None, 'F1 Score': 0.36167440012799107, 'Time taken': 0.07273435592651367}\n"
     ]
    },
    {
     "name": "stderr",
     "output_type": "stream",
     "text": [
      " 18%|█▊        | 4/22 [00:14<00:57,  3.18s/it]"
     ]
    },
    {
     "name": "stdout",
     "output_type": "stream",
     "text": [
      "{'Model': 'CalibratedClassifierCV', 'Accuracy': 0.48833333333333334, 'Balanced Accuracy': 0.501298377145704, 'ROC AUC': None, 'F1 Score': 0.4546897081530092, 'Time taken': 2.546743631362915}\n"
     ]
    },
    {
     "name": "stderr",
     "output_type": "stream",
     "text": [
      " 36%|███▋      | 8/22 [00:15<00:16,  1.18s/it]"
     ]
    },
    {
     "name": "stdout",
     "output_type": "stream",
     "text": [
      "{'Model': 'DecisionTreeClassifier', 'Accuracy': 0.3675, 'Balanced Accuracy': 0.4555875646424743, 'ROC AUC': None, 'F1 Score': 0.37297865133445884, 'Time taken': 0.9667782783508301}\n",
      "{'Model': 'DummyClassifier', 'Accuracy': 0.275, 'Balanced Accuracy': 0.09090909090909091, 'ROC AUC': None, 'F1 Score': 0.11862745098039218, 'Time taken': 0.050206661224365234}\n",
      "{'Model': 'ExtraTreeClassifier', 'Accuracy': 0.31472222222222224, 'Balanced Accuracy': 0.3606901308005238, 'ROC AUC': None, 'F1 Score': 0.3191978627657614, 'Time taken': 0.13663482666015625}\n"
     ]
    },
    {
     "name": "stderr",
     "output_type": "stream",
     "text": [
      " 41%|████      | 9/22 [00:23<00:35,  2.75s/it]"
     ]
    },
    {
     "name": "stdout",
     "output_type": "stream",
     "text": [
      "{'Model': 'ExtraTreesClassifier', 'Accuracy': 0.49916666666666665, 'Balanced Accuracy': 0.5578814928075834, 'ROC AUC': None, 'F1 Score': 0.48719658285491785, 'Time taken': 8.215116739273071}\n",
      "{'Model': 'GaussianNB', 'Accuracy': 0.45055555555555554, 'Balanced Accuracy': 0.5141872713069854, 'ROC AUC': None, 'F1 Score': 0.42425611783357503, 'Time taken': 0.0630955696105957}\n"
     ]
    },
    {
     "name": "stderr",
     "output_type": "stream",
     "text": [
      " 50%|█████     | 11/22 [00:25<00:22,  2.05s/it]"
     ]
    },
    {
     "name": "stdout",
     "output_type": "stream",
     "text": [
      "{'Model': 'KNeighborsClassifier', 'Accuracy': 0.4311111111111111, 'Balanced Accuracy': 0.5120936164450994, 'ROC AUC': None, 'F1 Score': 0.42638022695050815, 'Time taken': 1.8174076080322266}\n"
     ]
    },
    {
     "name": "stderr",
     "output_type": "stream",
     "text": [
      " 55%|█████▍    | 12/22 [00:26<00:18,  1.85s/it]"
     ]
    },
    {
     "name": "stdout",
     "output_type": "stream",
     "text": [
      "{'Model': 'LogisticRegression', 'Accuracy': 0.495, 'Balanced Accuracy': 0.5144144144025837, 'ROC AUC': None, 'F1 Score': 0.46273272892996026, 'Time taken': 1.1451168060302734}\n",
      "{'Model': 'NearestCentroid', 'Accuracy': 0.4172222222222222, 'Balanced Accuracy': 0.5258580663257237, 'ROC AUC': None, 'F1 Score': 0.39085062736053866, 'Time taken': 0.05798029899597168}\n"
     ]
    },
    {
     "name": "stderr",
     "output_type": "stream",
     "text": [
      " 64%|██████▎   | 14/22 [00:27<00:09,  1.20s/it]"
     ]
    },
    {
     "name": "stdout",
     "output_type": "stream",
     "text": [
      "{'Model': 'Perceptron', 'Accuracy': 0.32666666666666666, 'Balanced Accuracy': 0.35442937956434256, 'ROC AUC': None, 'F1 Score': 0.3159680211686187, 'Time taken': 0.2552509307861328}\n",
      "{'Model': 'QuadraticDiscriminantAnalysis', 'Accuracy': 0.4772222222222222, 'Balanced Accuracy': 0.5350809140300191, 'ROC AUC': None, 'F1 Score': 0.45049265183718185, 'Time taken': 0.06676769256591797}\n"
     ]
    },
    {
     "name": "stderr",
     "output_type": "stream",
     "text": [
      " 82%|████████▏ | 18/22 [00:50<00:12,  3.23s/it]"
     ]
    },
    {
     "name": "stdout",
     "output_type": "stream",
     "text": [
      "{'Model': 'RandomForestClassifier', 'Accuracy': 0.5025, 'Balanced Accuracy': 0.5628841902549325, 'ROC AUC': None, 'F1 Score': 0.49139027872450897, 'Time taken': 22.71482515335083}\n",
      "{'Model': 'RidgeClassifier', 'Accuracy': 0.44333333333333336, 'Balanced Accuracy': 0.3387051777389918, 'ROC AUC': None, 'F1 Score': 0.38038268176981915, 'Time taken': 0.08767271041870117}\n",
      "{'Model': 'RidgeClassifierCV', 'Accuracy': 0.44333333333333336, 'Balanced Accuracy': 0.3387051777389918, 'ROC AUC': None, 'F1 Score': 0.38038268176981915, 'Time taken': 0.10999536514282227}\n"
     ]
    },
    {
     "name": "stderr",
     "output_type": "stream",
     "text": [
      " 86%|████████▋ | 19/22 [00:51<00:08,  2.77s/it]"
     ]
    },
    {
     "name": "stdout",
     "output_type": "stream",
     "text": [
      "{'Model': 'SGDClassifier', 'Accuracy': 0.40555555555555556, 'Balanced Accuracy': 0.46903324808668484, 'ROC AUC': None, 'F1 Score': 0.37131232377983175, 'Time taken': 0.8698239326477051}\n"
     ]
    },
    {
     "name": "stderr",
     "output_type": "stream",
     "text": [
      " 91%|█████████ | 20/22 [01:24<00:18,  9.35s/it]"
     ]
    },
    {
     "name": "stdout",
     "output_type": "stream",
     "text": [
      "{'Model': 'SVC', 'Accuracy': 0.5308333333333334, 'Balanced Accuracy': 0.5529600146162804, 'ROC AUC': None, 'F1 Score': 0.4965254401259285, 'Time taken': 33.17220854759216}\n"
     ]
    },
    {
     "name": "stderr",
     "output_type": "stream",
     "text": [
      "100%|██████████| 22/22 [01:28<00:00,  4.03s/it]"
     ]
    },
    {
     "name": "stdout",
     "output_type": "stream",
     "text": [
      "{'Model': 'XGBClassifier', 'Accuracy': 0.5125, 'Balanced Accuracy': 0.5737184925078785, 'ROC AUC': None, 'F1 Score': 0.49922077201927084, 'Time taken': 4.287382364273071}\n"
     ]
    },
    {
     "name": "stderr",
     "output_type": "stream",
     "text": [
      "\n"
     ]
    },
    {
     "data": {
      "text/html": [
       "<div>\n",
       "<style scoped>\n",
       "    .dataframe tbody tr th:only-of-type {\n",
       "        vertical-align: middle;\n",
       "    }\n",
       "\n",
       "    .dataframe tbody tr th {\n",
       "        vertical-align: top;\n",
       "    }\n",
       "\n",
       "    .dataframe thead th {\n",
       "        text-align: right;\n",
       "    }\n",
       "</style>\n",
       "<table border=\"1\" class=\"dataframe\">\n",
       "  <thead>\n",
       "    <tr style=\"text-align: right;\">\n",
       "      <th></th>\n",
       "      <th>Accuracy</th>\n",
       "      <th>Balanced Accuracy</th>\n",
       "      <th>ROC AUC</th>\n",
       "      <th>F1 Score</th>\n",
       "      <th>Time Taken</th>\n",
       "    </tr>\n",
       "    <tr>\n",
       "      <th>Model</th>\n",
       "      <th></th>\n",
       "      <th></th>\n",
       "      <th></th>\n",
       "      <th></th>\n",
       "      <th></th>\n",
       "    </tr>\n",
       "  </thead>\n",
       "  <tbody>\n",
       "    <tr>\n",
       "      <th>XGBClassifier</th>\n",
       "      <td>0.51</td>\n",
       "      <td>0.57</td>\n",
       "      <td>None</td>\n",
       "      <td>0.50</td>\n",
       "      <td>4.29</td>\n",
       "    </tr>\n",
       "    <tr>\n",
       "      <th>RandomForestClassifier</th>\n",
       "      <td>0.50</td>\n",
       "      <td>0.56</td>\n",
       "      <td>None</td>\n",
       "      <td>0.49</td>\n",
       "      <td>22.71</td>\n",
       "    </tr>\n",
       "    <tr>\n",
       "      <th>ExtraTreesClassifier</th>\n",
       "      <td>0.50</td>\n",
       "      <td>0.56</td>\n",
       "      <td>None</td>\n",
       "      <td>0.49</td>\n",
       "      <td>8.22</td>\n",
       "    </tr>\n",
       "    <tr>\n",
       "      <th>SVC</th>\n",
       "      <td>0.53</td>\n",
       "      <td>0.55</td>\n",
       "      <td>None</td>\n",
       "      <td>0.50</td>\n",
       "      <td>33.17</td>\n",
       "    </tr>\n",
       "    <tr>\n",
       "      <th>BaggingClassifier</th>\n",
       "      <td>0.46</td>\n",
       "      <td>0.54</td>\n",
       "      <td>None</td>\n",
       "      <td>0.46</td>\n",
       "      <td>7.96</td>\n",
       "    </tr>\n",
       "    <tr>\n",
       "      <th>QuadraticDiscriminantAnalysis</th>\n",
       "      <td>0.48</td>\n",
       "      <td>0.54</td>\n",
       "      <td>None</td>\n",
       "      <td>0.45</td>\n",
       "      <td>0.07</td>\n",
       "    </tr>\n",
       "    <tr>\n",
       "      <th>NearestCentroid</th>\n",
       "      <td>0.42</td>\n",
       "      <td>0.53</td>\n",
       "      <td>None</td>\n",
       "      <td>0.39</td>\n",
       "      <td>0.06</td>\n",
       "    </tr>\n",
       "    <tr>\n",
       "      <th>LogisticRegression</th>\n",
       "      <td>0.49</td>\n",
       "      <td>0.51</td>\n",
       "      <td>None</td>\n",
       "      <td>0.46</td>\n",
       "      <td>1.15</td>\n",
       "    </tr>\n",
       "    <tr>\n",
       "      <th>GaussianNB</th>\n",
       "      <td>0.45</td>\n",
       "      <td>0.51</td>\n",
       "      <td>None</td>\n",
       "      <td>0.42</td>\n",
       "      <td>0.06</td>\n",
       "    </tr>\n",
       "    <tr>\n",
       "      <th>KNeighborsClassifier</th>\n",
       "      <td>0.43</td>\n",
       "      <td>0.51</td>\n",
       "      <td>None</td>\n",
       "      <td>0.43</td>\n",
       "      <td>1.82</td>\n",
       "    </tr>\n",
       "    <tr>\n",
       "      <th>CalibratedClassifierCV</th>\n",
       "      <td>0.49</td>\n",
       "      <td>0.50</td>\n",
       "      <td>None</td>\n",
       "      <td>0.45</td>\n",
       "      <td>2.55</td>\n",
       "    </tr>\n",
       "    <tr>\n",
       "      <th>SGDClassifier</th>\n",
       "      <td>0.41</td>\n",
       "      <td>0.47</td>\n",
       "      <td>None</td>\n",
       "      <td>0.37</td>\n",
       "      <td>0.87</td>\n",
       "    </tr>\n",
       "    <tr>\n",
       "      <th>DecisionTreeClassifier</th>\n",
       "      <td>0.37</td>\n",
       "      <td>0.46</td>\n",
       "      <td>None</td>\n",
       "      <td>0.37</td>\n",
       "      <td>0.97</td>\n",
       "    </tr>\n",
       "    <tr>\n",
       "      <th>BernoulliNB</th>\n",
       "      <td>0.40</td>\n",
       "      <td>0.39</td>\n",
       "      <td>None</td>\n",
       "      <td>0.36</td>\n",
       "      <td>0.07</td>\n",
       "    </tr>\n",
       "    <tr>\n",
       "      <th>AdaBoostClassifier</th>\n",
       "      <td>0.27</td>\n",
       "      <td>0.38</td>\n",
       "      <td>None</td>\n",
       "      <td>0.19</td>\n",
       "      <td>3.95</td>\n",
       "    </tr>\n",
       "    <tr>\n",
       "      <th>ExtraTreeClassifier</th>\n",
       "      <td>0.31</td>\n",
       "      <td>0.36</td>\n",
       "      <td>None</td>\n",
       "      <td>0.32</td>\n",
       "      <td>0.14</td>\n",
       "    </tr>\n",
       "    <tr>\n",
       "      <th>Perceptron</th>\n",
       "      <td>0.33</td>\n",
       "      <td>0.35</td>\n",
       "      <td>None</td>\n",
       "      <td>0.32</td>\n",
       "      <td>0.26</td>\n",
       "    </tr>\n",
       "    <tr>\n",
       "      <th>RidgeClassifier</th>\n",
       "      <td>0.44</td>\n",
       "      <td>0.34</td>\n",
       "      <td>None</td>\n",
       "      <td>0.38</td>\n",
       "      <td>0.09</td>\n",
       "    </tr>\n",
       "    <tr>\n",
       "      <th>RidgeClassifierCV</th>\n",
       "      <td>0.44</td>\n",
       "      <td>0.34</td>\n",
       "      <td>None</td>\n",
       "      <td>0.38</td>\n",
       "      <td>0.11</td>\n",
       "    </tr>\n",
       "    <tr>\n",
       "      <th>DummyClassifier</th>\n",
       "      <td>0.28</td>\n",
       "      <td>0.09</td>\n",
       "      <td>None</td>\n",
       "      <td>0.12</td>\n",
       "      <td>0.05</td>\n",
       "    </tr>\n",
       "  </tbody>\n",
       "</table>\n",
       "</div>"
      ],
      "text/plain": [
       "                               Accuracy  Balanced Accuracy ROC AUC  F1 Score  \\\n",
       "Model                                                                          \n",
       "XGBClassifier                      0.51               0.57    None      0.50   \n",
       "RandomForestClassifier             0.50               0.56    None      0.49   \n",
       "ExtraTreesClassifier               0.50               0.56    None      0.49   \n",
       "SVC                                0.53               0.55    None      0.50   \n",
       "BaggingClassifier                  0.46               0.54    None      0.46   \n",
       "QuadraticDiscriminantAnalysis      0.48               0.54    None      0.45   \n",
       "NearestCentroid                    0.42               0.53    None      0.39   \n",
       "LogisticRegression                 0.49               0.51    None      0.46   \n",
       "GaussianNB                         0.45               0.51    None      0.42   \n",
       "KNeighborsClassifier               0.43               0.51    None      0.43   \n",
       "CalibratedClassifierCV             0.49               0.50    None      0.45   \n",
       "SGDClassifier                      0.41               0.47    None      0.37   \n",
       "DecisionTreeClassifier             0.37               0.46    None      0.37   \n",
       "BernoulliNB                        0.40               0.39    None      0.36   \n",
       "AdaBoostClassifier                 0.27               0.38    None      0.19   \n",
       "ExtraTreeClassifier                0.31               0.36    None      0.32   \n",
       "Perceptron                         0.33               0.35    None      0.32   \n",
       "RidgeClassifier                    0.44               0.34    None      0.38   \n",
       "RidgeClassifierCV                  0.44               0.34    None      0.38   \n",
       "DummyClassifier                    0.28               0.09    None      0.12   \n",
       "\n",
       "                               Time Taken  \n",
       "Model                                      \n",
       "XGBClassifier                        4.29  \n",
       "RandomForestClassifier              22.71  \n",
       "ExtraTreesClassifier                 8.22  \n",
       "SVC                                 33.17  \n",
       "BaggingClassifier                    7.96  \n",
       "QuadraticDiscriminantAnalysis        0.07  \n",
       "NearestCentroid                      0.06  \n",
       "LogisticRegression                   1.15  \n",
       "GaussianNB                           0.06  \n",
       "KNeighborsClassifier                 1.82  \n",
       "CalibratedClassifierCV               2.55  \n",
       "SGDClassifier                        0.87  \n",
       "DecisionTreeClassifier               0.97  \n",
       "BernoulliNB                          0.07  \n",
       "AdaBoostClassifier                   3.95  \n",
       "ExtraTreeClassifier                  0.14  \n",
       "Perceptron                           0.26  \n",
       "RidgeClassifier                      0.09  \n",
       "RidgeClassifierCV                    0.11  \n",
       "DummyClassifier                      0.05  "
      ]
     },
     "execution_count": 13,
     "metadata": {},
     "output_type": "execute_result"
    }
   ],
   "source": [
    "clf = LazyClassifier(verbose= 1,ignore_warnings=True, custom_metric= None)\n",
    "models, predictions = clf.fit(X_train, X_test, y_train, y_test)\n",
    "models.sort_values(by='Accuracy', ascending=False)"
   ]
  },
  {
   "cell_type": "code",
   "execution_count": 16,
   "metadata": {},
   "outputs": [
    {
     "data": {
      "text/html": [
       "<div>\n",
       "<style scoped>\n",
       "    .dataframe tbody tr th:only-of-type {\n",
       "        vertical-align: middle;\n",
       "    }\n",
       "\n",
       "    .dataframe tbody tr th {\n",
       "        vertical-align: top;\n",
       "    }\n",
       "\n",
       "    .dataframe thead th {\n",
       "        text-align: right;\n",
       "    }\n",
       "</style>\n",
       "<table border=\"1\" class=\"dataframe\">\n",
       "  <thead>\n",
       "    <tr style=\"text-align: right;\">\n",
       "      <th></th>\n",
       "      <th>Accuracy</th>\n",
       "      <th>Balanced Accuracy</th>\n",
       "      <th>ROC AUC</th>\n",
       "      <th>F1 Score</th>\n",
       "      <th>Time Taken</th>\n",
       "    </tr>\n",
       "    <tr>\n",
       "      <th>Model</th>\n",
       "      <th></th>\n",
       "      <th></th>\n",
       "      <th></th>\n",
       "      <th></th>\n",
       "      <th></th>\n",
       "    </tr>\n",
       "  </thead>\n",
       "  <tbody>\n",
       "    <tr>\n",
       "      <th>SVC</th>\n",
       "      <td>0.53</td>\n",
       "      <td>0.55</td>\n",
       "      <td>None</td>\n",
       "      <td>0.50</td>\n",
       "      <td>33.17</td>\n",
       "    </tr>\n",
       "    <tr>\n",
       "      <th>XGBClassifier</th>\n",
       "      <td>0.51</td>\n",
       "      <td>0.57</td>\n",
       "      <td>None</td>\n",
       "      <td>0.50</td>\n",
       "      <td>4.29</td>\n",
       "    </tr>\n",
       "    <tr>\n",
       "      <th>RandomForestClassifier</th>\n",
       "      <td>0.50</td>\n",
       "      <td>0.56</td>\n",
       "      <td>None</td>\n",
       "      <td>0.49</td>\n",
       "      <td>22.71</td>\n",
       "    </tr>\n",
       "    <tr>\n",
       "      <th>ExtraTreesClassifier</th>\n",
       "      <td>0.50</td>\n",
       "      <td>0.56</td>\n",
       "      <td>None</td>\n",
       "      <td>0.49</td>\n",
       "      <td>8.22</td>\n",
       "    </tr>\n",
       "    <tr>\n",
       "      <th>LogisticRegression</th>\n",
       "      <td>0.49</td>\n",
       "      <td>0.51</td>\n",
       "      <td>None</td>\n",
       "      <td>0.46</td>\n",
       "      <td>1.15</td>\n",
       "    </tr>\n",
       "    <tr>\n",
       "      <th>CalibratedClassifierCV</th>\n",
       "      <td>0.49</td>\n",
       "      <td>0.50</td>\n",
       "      <td>None</td>\n",
       "      <td>0.45</td>\n",
       "      <td>2.55</td>\n",
       "    </tr>\n",
       "    <tr>\n",
       "      <th>QuadraticDiscriminantAnalysis</th>\n",
       "      <td>0.48</td>\n",
       "      <td>0.54</td>\n",
       "      <td>None</td>\n",
       "      <td>0.45</td>\n",
       "      <td>0.07</td>\n",
       "    </tr>\n",
       "    <tr>\n",
       "      <th>BaggingClassifier</th>\n",
       "      <td>0.46</td>\n",
       "      <td>0.54</td>\n",
       "      <td>None</td>\n",
       "      <td>0.46</td>\n",
       "      <td>7.96</td>\n",
       "    </tr>\n",
       "    <tr>\n",
       "      <th>GaussianNB</th>\n",
       "      <td>0.45</td>\n",
       "      <td>0.51</td>\n",
       "      <td>None</td>\n",
       "      <td>0.42</td>\n",
       "      <td>0.06</td>\n",
       "    </tr>\n",
       "    <tr>\n",
       "      <th>RidgeClassifier</th>\n",
       "      <td>0.44</td>\n",
       "      <td>0.34</td>\n",
       "      <td>None</td>\n",
       "      <td>0.38</td>\n",
       "      <td>0.09</td>\n",
       "    </tr>\n",
       "    <tr>\n",
       "      <th>RidgeClassifierCV</th>\n",
       "      <td>0.44</td>\n",
       "      <td>0.34</td>\n",
       "      <td>None</td>\n",
       "      <td>0.38</td>\n",
       "      <td>0.11</td>\n",
       "    </tr>\n",
       "    <tr>\n",
       "      <th>KNeighborsClassifier</th>\n",
       "      <td>0.43</td>\n",
       "      <td>0.51</td>\n",
       "      <td>None</td>\n",
       "      <td>0.43</td>\n",
       "      <td>1.82</td>\n",
       "    </tr>\n",
       "    <tr>\n",
       "      <th>NearestCentroid</th>\n",
       "      <td>0.42</td>\n",
       "      <td>0.53</td>\n",
       "      <td>None</td>\n",
       "      <td>0.39</td>\n",
       "      <td>0.06</td>\n",
       "    </tr>\n",
       "    <tr>\n",
       "      <th>SGDClassifier</th>\n",
       "      <td>0.41</td>\n",
       "      <td>0.47</td>\n",
       "      <td>None</td>\n",
       "      <td>0.37</td>\n",
       "      <td>0.87</td>\n",
       "    </tr>\n",
       "    <tr>\n",
       "      <th>BernoulliNB</th>\n",
       "      <td>0.40</td>\n",
       "      <td>0.39</td>\n",
       "      <td>None</td>\n",
       "      <td>0.36</td>\n",
       "      <td>0.07</td>\n",
       "    </tr>\n",
       "    <tr>\n",
       "      <th>DecisionTreeClassifier</th>\n",
       "      <td>0.37</td>\n",
       "      <td>0.46</td>\n",
       "      <td>None</td>\n",
       "      <td>0.37</td>\n",
       "      <td>0.97</td>\n",
       "    </tr>\n",
       "    <tr>\n",
       "      <th>Perceptron</th>\n",
       "      <td>0.33</td>\n",
       "      <td>0.35</td>\n",
       "      <td>None</td>\n",
       "      <td>0.32</td>\n",
       "      <td>0.26</td>\n",
       "    </tr>\n",
       "    <tr>\n",
       "      <th>ExtraTreeClassifier</th>\n",
       "      <td>0.31</td>\n",
       "      <td>0.36</td>\n",
       "      <td>None</td>\n",
       "      <td>0.32</td>\n",
       "      <td>0.14</td>\n",
       "    </tr>\n",
       "    <tr>\n",
       "      <th>DummyClassifier</th>\n",
       "      <td>0.28</td>\n",
       "      <td>0.09</td>\n",
       "      <td>None</td>\n",
       "      <td>0.12</td>\n",
       "      <td>0.05</td>\n",
       "    </tr>\n",
       "    <tr>\n",
       "      <th>AdaBoostClassifier</th>\n",
       "      <td>0.27</td>\n",
       "      <td>0.38</td>\n",
       "      <td>None</td>\n",
       "      <td>0.19</td>\n",
       "      <td>3.95</td>\n",
       "    </tr>\n",
       "  </tbody>\n",
       "</table>\n",
       "</div>"
      ],
      "text/plain": [
       "                               Accuracy  Balanced Accuracy ROC AUC  F1 Score  \\\n",
       "Model                                                                          \n",
       "SVC                                0.53               0.55    None      0.50   \n",
       "XGBClassifier                      0.51               0.57    None      0.50   \n",
       "RandomForestClassifier             0.50               0.56    None      0.49   \n",
       "ExtraTreesClassifier               0.50               0.56    None      0.49   \n",
       "LogisticRegression                 0.49               0.51    None      0.46   \n",
       "CalibratedClassifierCV             0.49               0.50    None      0.45   \n",
       "QuadraticDiscriminantAnalysis      0.48               0.54    None      0.45   \n",
       "BaggingClassifier                  0.46               0.54    None      0.46   \n",
       "GaussianNB                         0.45               0.51    None      0.42   \n",
       "RidgeClassifier                    0.44               0.34    None      0.38   \n",
       "RidgeClassifierCV                  0.44               0.34    None      0.38   \n",
       "KNeighborsClassifier               0.43               0.51    None      0.43   \n",
       "NearestCentroid                    0.42               0.53    None      0.39   \n",
       "SGDClassifier                      0.41               0.47    None      0.37   \n",
       "BernoulliNB                        0.40               0.39    None      0.36   \n",
       "DecisionTreeClassifier             0.37               0.46    None      0.37   \n",
       "Perceptron                         0.33               0.35    None      0.32   \n",
       "ExtraTreeClassifier                0.31               0.36    None      0.32   \n",
       "DummyClassifier                    0.28               0.09    None      0.12   \n",
       "AdaBoostClassifier                 0.27               0.38    None      0.19   \n",
       "\n",
       "                               Time Taken  \n",
       "Model                                      \n",
       "SVC                                 33.17  \n",
       "XGBClassifier                        4.29  \n",
       "RandomForestClassifier              22.71  \n",
       "ExtraTreesClassifier                 8.22  \n",
       "LogisticRegression                   1.15  \n",
       "CalibratedClassifierCV               2.55  \n",
       "QuadraticDiscriminantAnalysis        0.07  \n",
       "BaggingClassifier                    7.96  \n",
       "GaussianNB                           0.06  \n",
       "RidgeClassifier                      0.09  \n",
       "RidgeClassifierCV                    0.11  \n",
       "KNeighborsClassifier                 1.82  \n",
       "NearestCentroid                      0.06  \n",
       "SGDClassifier                        0.87  \n",
       "BernoulliNB                          0.07  \n",
       "DecisionTreeClassifier               0.97  \n",
       "Perceptron                           0.26  \n",
       "ExtraTreeClassifier                  0.14  \n",
       "DummyClassifier                      0.05  \n",
       "AdaBoostClassifier                   3.95  "
      ]
     },
     "execution_count": 16,
     "metadata": {},
     "output_type": "execute_result"
    }
   ],
   "source": [
    "models.sort_values(by='Accuracy', ascending=False)"
   ]
  }
 ],
 "metadata": {
  "kernelspec": {
   "display_name": "Python 3",
   "language": "python",
   "name": "python3"
  },
  "language_info": {
   "codemirror_mode": {
    "name": "ipython",
    "version": 3
   },
   "file_extension": ".py",
   "mimetype": "text/x-python",
   "name": "python",
   "nbconvert_exporter": "python",
   "pygments_lexer": "ipython3",
   "version": "3.8.16"
  }
 },
 "nbformat": 4,
 "nbformat_minor": 2
}
